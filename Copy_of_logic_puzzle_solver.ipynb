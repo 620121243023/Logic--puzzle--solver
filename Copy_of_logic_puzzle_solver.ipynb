{
  "nbformat": 4,
  "nbformat_minor": 0,
  "metadata": {
    "colab": {
      "provenance": [],
      "authorship_tag": "ABX9TyNyQy72sxEm1fslcjfiiuYh",
      "include_colab_link": true
    },
    "kernelspec": {
      "name": "python3",
      "display_name": "Python 3"
    },
    "language_info": {
      "name": "python"
    }
  },
  "cells": [
    {
      "cell_type": "markdown",
      "metadata": {
        "id": "view-in-github",
        "colab_type": "text"
      },
      "source": [
        "<a href=\"https://colab.research.google.com/github/620121243023/Logic--puzzle--solver/blob/main/Copy_of_logic_puzzle_solver.ipynb\" target=\"_parent\"><img src=\"https://colab.research.google.com/assets/colab-badge.svg\" alt=\"Open In Colab\"/></a>"
      ]
    },
    {
      "cell_type": "code",
      "source": [
        "!pip install torch gradio pillow easyocr -q groq"
      ],
      "metadata": {
        "id": "1LDAsFlQw9G0",
        "colab": {
          "base_uri": "https://localhost:8080/"
        },
        "outputId": "8d97c4d0-d043-461c-ba43-2fa8cbfb6fc2"
      },
      "execution_count": 3,
      "outputs": [
        {
          "output_type": "stream",
          "name": "stdout",
          "text": [
            "\u001b[2K   \u001b[90m━━━━━━━━━━━━━━━━━━━━━━━━━━━━━━━━━━━━━━━━\u001b[0m \u001b[32m363.4/363.4 MB\u001b[0m \u001b[31m1.4 MB/s\u001b[0m eta \u001b[36m0:00:00\u001b[0m\n",
            "\u001b[2K   \u001b[90m━━━━━━━━━━━━━━━━━━━━━━━━━━━━━━━━━━━━━━━━\u001b[0m \u001b[32m13.8/13.8 MB\u001b[0m \u001b[31m61.4 MB/s\u001b[0m eta \u001b[36m0:00:00\u001b[0m\n",
            "\u001b[2K   \u001b[90m━━━━━━━━━━━━━━━━━━━━━━━━━━━━━━━━━━━━━━━━\u001b[0m \u001b[32m24.6/24.6 MB\u001b[0m \u001b[31m73.6 MB/s\u001b[0m eta \u001b[36m0:00:00\u001b[0m\n",
            "\u001b[2K   \u001b[90m━━━━━━━━━━━━━━━━━━━━━━━━━━━━━━━━━━━━━━━━\u001b[0m \u001b[32m883.7/883.7 kB\u001b[0m \u001b[31m40.5 MB/s\u001b[0m eta \u001b[36m0:00:00\u001b[0m\n",
            "\u001b[2K   \u001b[90m━━━━━━━━━━━━━━━━━━━━━━━━━━━━━━━━━━━━━━━━\u001b[0m \u001b[32m664.8/664.8 MB\u001b[0m \u001b[31m2.8 MB/s\u001b[0m eta \u001b[36m0:00:00\u001b[0m\n",
            "\u001b[2K   \u001b[90m━━━━━━━━━━━━━━━━━━━━━━━━━━━━━━━━━━━━━━━━\u001b[0m \u001b[32m211.5/211.5 MB\u001b[0m \u001b[31m6.1 MB/s\u001b[0m eta \u001b[36m0:00:00\u001b[0m\n",
            "\u001b[2K   \u001b[90m━━━━━━━━━━━━━━━━━━━━━━━━━━━━━━━━━━━━━━━━\u001b[0m \u001b[32m56.3/56.3 MB\u001b[0m \u001b[31m11.8 MB/s\u001b[0m eta \u001b[36m0:00:00\u001b[0m\n",
            "\u001b[2K   \u001b[90m━━━━━━━━━━━━━━━━━━━━━━━━━━━━━━━━━━━━━━━━\u001b[0m \u001b[32m127.9/127.9 MB\u001b[0m \u001b[31m7.0 MB/s\u001b[0m eta \u001b[36m0:00:00\u001b[0m\n",
            "\u001b[2K   \u001b[90m━━━━━━━━━━━━━━━━━━━━━━━━━━━━━━━━━━━━━━━━\u001b[0m \u001b[32m207.5/207.5 MB\u001b[0m \u001b[31m5.3 MB/s\u001b[0m eta \u001b[36m0:00:00\u001b[0m\n",
            "\u001b[2K   \u001b[90m━━━━━━━━━━━━━━━━━━━━━━━━━━━━━━━━━━━━━━━━\u001b[0m \u001b[32m21.1/21.1 MB\u001b[0m \u001b[31m50.5 MB/s\u001b[0m eta \u001b[36m0:00:00\u001b[0m\n",
            "\u001b[2K   \u001b[90m━━━━━━━━━━━━━━━━━━━━━━━━━━━━━━━━━━━━━━━━\u001b[0m \u001b[32m57.8/57.8 MB\u001b[0m \u001b[31m10.0 MB/s\u001b[0m eta \u001b[36m0:00:00\u001b[0m\n",
            "\u001b[2K   \u001b[90m━━━━━━━━━━━━━━━━━━━━━━━━━━━━━━━━━━━━━━━━\u001b[0m \u001b[32m321.9/321.9 kB\u001b[0m \u001b[31m19.3 MB/s\u001b[0m eta \u001b[36m0:00:00\u001b[0m\n",
            "\u001b[2K   \u001b[90m━━━━━━━━━━━━━━━━━━━━━━━━━━━━━━━━━━━━━━━━\u001b[0m \u001b[32m2.9/2.9 MB\u001b[0m \u001b[31m53.0 MB/s\u001b[0m eta \u001b[36m0:00:00\u001b[0m\n",
            "\u001b[2K   \u001b[90m━━━━━━━━━━━━━━━━━━━━━━━━━━━━━━━━━━━━━━━━\u001b[0m \u001b[32m121.9/121.9 kB\u001b[0m \u001b[31m7.7 MB/s\u001b[0m eta \u001b[36m0:00:00\u001b[0m\n",
            "\u001b[2K   \u001b[90m━━━━━━━━━━━━━━━━━━━━━━━━━━━━━━━━━━━━━━━━\u001b[0m \u001b[32m94.8/94.8 kB\u001b[0m \u001b[31m6.1 MB/s\u001b[0m eta \u001b[36m0:00:00\u001b[0m\n",
            "\u001b[2K   \u001b[90m━━━━━━━━━━━━━━━━━━━━━━━━━━━━━━━━━━━━━━━━\u001b[0m \u001b[32m12.5/12.5 MB\u001b[0m \u001b[31m71.6 MB/s\u001b[0m eta \u001b[36m0:00:00\u001b[0m\n",
            "\u001b[2K   \u001b[90m━━━━━━━━━━━━━━━━━━━━━━━━━━━━━━━━━━━━━━━━\u001b[0m \u001b[32m71.5/71.5 kB\u001b[0m \u001b[31m4.9 MB/s\u001b[0m eta \u001b[36m0:00:00\u001b[0m\n",
            "\u001b[2K   \u001b[90m━━━━━━━━━━━━━━━━━━━━━━━━━━━━━━━━━━━━━━━━\u001b[0m \u001b[32m62.3/62.3 kB\u001b[0m \u001b[31m4.1 MB/s\u001b[0m eta \u001b[36m0:00:00\u001b[0m\n",
            "\u001b[2K   \u001b[90m━━━━━━━━━━━━━━━━━━━━━━━━━━━━━━━━━━━━━━━━\u001b[0m \u001b[32m422.9/422.9 kB\u001b[0m \u001b[31m24.3 MB/s\u001b[0m eta \u001b[36m0:00:00\u001b[0m\n",
            "\u001b[2K   \u001b[90m━━━━━━━━━━━━━━━━━━━━━━━━━━━━━━━━━━━━━━━━\u001b[0m \u001b[32m969.6/969.6 kB\u001b[0m \u001b[31m39.3 MB/s\u001b[0m eta \u001b[36m0:00:00\u001b[0m\n",
            "\u001b[2K   \u001b[90m━━━━━━━━━━━━━━━━━━━━━━━━━━━━━━━━━━━━━━━━\u001b[0m \u001b[32m286.6/286.6 kB\u001b[0m \u001b[31m16.9 MB/s\u001b[0m eta \u001b[36m0:00:00\u001b[0m\n",
            "\u001b[?25h"
          ]
        }
      ]
    },
    {
      "cell_type": "code",
      "source": [
        "import easyocr\n",
        "import groq\n",
        "\n",
        "reader = easyocr.Reader({'en'})\n",
        "GROQ_API_KEY = \"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\"\n",
        "client = groq.Client(api_key = GROQ_API_KEY)\n",
        "\n",
        "def solve_puzzle(image):\n",
        "\n",
        "  try:\n",
        "\n",
        "    image_path = \"uploaded_img.png\"\n",
        "    image.save(image_path)\n",
        "\n",
        "    results = reader.readtext(image_path)\n",
        "    extracted_text = \" \".join([res[1]for res in results])\n",
        "\n",
        "    extracted_text = extracted_text.replace(\"??\" , \"?\")\n",
        "    if \"?\" not in extracted_text:\n",
        "      extracted_text +=\"?\"\n",
        "\n",
        "\n",
        "\n",
        "    print(\"Extracted Text: \", extracted_text)\n",
        "    refined_text = extracted_text.replace('x' , '*').replace('X' , '*').replace('=' , ' = ').strip()\n",
        "    print(\"Refined Text: \", refined_text)\n",
        "\n",
        "    puzzle_prompt = (f\"You are an AI specialized in solving puzzles. Analyze the following, identify hidden patterns or rules, and provide the missing value with step-by-step reasoning in text format. \"\n",
        "              f\"\\nPuzzle:\\n{refined_text}\\n\"\n",
        "              \"Format your response strictly as follows:\\n\"\n",
        "              \"1. **Given Equation** :\\n  - (original equations)\\n\"\n",
        "              \"2. **Pattern Identified**:\\n   (explain the hidden logic)\\n\"\n",
        "              \"3. **Step-by-step Calculation**:\\n  - For (input values):\\n     (calculation and result)\\n\"\n",
        "              \"4. **Final Answer**:\\n   (Answer = X)\")\n",
        "\n",
        "    response = client.chat.completions.create (\n",
        "\n",
        "        model = \"deepseek-r1-distill-llama-70b\" ,\n",
        "        messages = [{\"role\": \"user\" , \"content\": puzzle_prompt}],\n",
        "        temperature=0,\n",
        "        max_tokens=1000\n",
        "     )\n",
        "\n",
        "    if response and response.choices:\n",
        "\n",
        "       return response.choices[0].message.content.strip()\n",
        "    else:\n",
        "       return \"Error: No response content from API\"\n",
        "  except Exception as e:\n",
        "    return f\"Error : {str(e)}\"\n"
      ],
      "metadata": {
        "colab": {
          "base_uri": "https://localhost:8080/"
        },
        "id": "ZwrKqVZCxbSf",
        "outputId": "11371aa6-b5bb-41c6-f220-0a89b5c4a5eb"
      },
      "execution_count": 4,
      "outputs": [
        {
          "output_type": "stream",
          "name": "stderr",
          "text": [
            "WARNING:easyocr.easyocr:Neither CUDA nor MPS are available - defaulting to CPU. Note: This module is much faster with a GPU.\n",
            "WARNING:easyocr.easyocr:Downloading detection model, please wait. This may take several minutes depending upon your network connection.\n"
          ]
        },
        {
          "output_type": "stream",
          "name": "stdout",
          "text": [
            "Progress: |██████████████████████████████████████████████████| 100.0% Complete"
          ]
        },
        {
          "output_type": "stream",
          "name": "stderr",
          "text": [
            "WARNING:easyocr.easyocr:Downloading recognition model, please wait. This may take several minutes depending upon your network connection.\n"
          ]
        },
        {
          "output_type": "stream",
          "name": "stdout",
          "text": [
            "Progress: |██████████████████████████████████████████████████| 100.0% Complete"
          ]
        }
      ]
    },
    {
      "cell_type": "code",
      "source": [
        "from PIL import Image\n",
        "img = Image.open(\"/content/download (12).jpg\")"
      ],
      "metadata": {
        "id": "oDhTJigR3LVl"
      },
      "execution_count": 7,
      "outputs": []
    },
    {
      "cell_type": "code",
      "source": [
        "print(solve_puzzle(img))"
      ],
      "metadata": {
        "id": "5rv3kUKb3s8I",
        "colab": {
          "base_uri": "https://localhost:8080/"
        },
        "outputId": "817ef470-a54c-4258-e048-4d3250ca5d11"
      },
      "execution_count": 8,
      "outputs": [
        {
          "output_type": "stream",
          "name": "stdout",
          "text": [
            "Extracted Text:  37 x 3 = 111 37 x 6 = 222 37 9 = 333 37 x 12=444 37 x ?= 777\n",
            "Refined Text:  37 * 3  =  111 37 * 6  =  222 37 9  =  333 37 * 12 = 444 37 * ? =  777\n",
            "<think>\n",
            "Okay, so I've got this puzzle here, and I need to figure out the missing value. Let me start by writing down the given equations to see if I can spot any patterns.\n",
            "\n",
            "The equations are:\n",
            "37 * 3 = 111\n",
            "37 * 6 = 222\n",
            "37 * 9 = 333\n",
            "37 * 12 = 444\n",
            "37 * ? = 777\n",
            "\n",
            "Hmm, I notice that each time, 37 is being multiplied by a number, and the result is a three-digit number where all the digits are the same. Let me look at the multipliers first: 3, 6, 9, 12. I see that these are multiples of 3. 3 is 3×1, 6 is 3×2, 9 is 3×3, and 12 is 3×4. So the multiplier increases by 3 each time.\n",
            "\n",
            "Now, looking at the results: 111, 222, 333, 444. Each of these is a three-digit number with identical digits. 111 is three 1s, 222 is three 2s, and so on. It seems like the digit is increasing by 1 each time. So the first result is 1s, then 2s, then 3s, then 4s. Following this pattern, the next should be 5s, making 555, but wait, the last equation is 37 * ? = 777. Wait, that's 7s, not 5s. That's a bit confusing.\n",
            "\n",
            "Wait, maybe I'm missing something. Let me check the multipliers again. The multipliers are 3, 6, 9, 12. So each time, the multiplier increases by 3. So after 12, the next would be 15. Let me test that: 37 * 15. Let me calculate that. 37 * 10 is 370, and 37 * 5 is 185, so 370 + 185 is 555. So 37 * 15 = 555. But the given equation is 37 * ? = 777, which is 7s. So that doesn't fit the pattern I thought.\n",
            "\n",
            "Wait, maybe the pattern isn't about the digit increasing by 1 each time. Let me look again. The results are 111, 222, 333, 444. So each result is the digit multiplied by 111. 1×111=111, 2×111=222, 3×111=333, 4×111=444. So the next would be 5×111=555, but the given equation is 777, which is 7×111=777. So that suggests that the multiplier for 37 is increasing by 3 each time, but the digit in the result is increasing by 1 each time. So after 444 (which is 4×111), the next would be 5×111=555, but the given equation is 777, which is 7×111. So that's a jump from 4 to 7, which is an increase of 3. That doesn't fit the previous pattern of increasing by 1 each time.\n",
            "\n",
            "Wait, maybe I'm approaching this wrong. Let me think differently. Let's see what 37 multiplied by each of these numbers gives:\n",
            "\n",
            "37 * 3 = 111\n",
            "37 * 6 = 222\n",
            "37 * 9 = 333\n",
            "37 * 12 = 444\n",
            "\n",
            "So each time, the multiplier increases by 3, and the result is the same digit repeated three times, starting from 1 and increasing by 1 each time. So 3 gives 111, 6 gives 222, 9 gives 333, 12 gives 444. So the next would be 15 giving 555, but the question is asking for 777. So 777 is 7×111, which would mean the multiplier is 21 because 37*21=777. Let me check that: 37*20=740, plus 37 is 777. Yes, that's correct.\n",
            "\n",
            "So the pattern is that each time, the multiplier increases by 3, and the result is the next digit in sequence. So after 12, the next multiplier would be 15, giving 555, but the question skips to 777, which is 21 as the multiplier. So the missing value is 21.\n",
            "\n",
            "Wait, but the given equations go from 3,6,9,12, so each time adding 3. So the next would be 15, then 18, then 21. So 37*15=555, 37*18=666, 37*21=777. So the question is asking for\n"
          ]
        }
      ]
    },
    {
      "cell_type": "code",
      "source": [],
      "metadata": {
        "id": "KPYObTwpNS2j"
      },
      "execution_count": null,
      "outputs": []
    },
    {
      "cell_type": "code",
      "source": [
        "import gradio as gr\n",
        "\n",
        "interface = gr.Interface(\n",
        "    fn = solve_puzzle,\n",
        "    inputs = gr.Image(type = \"pil\"),\n",
        "    outputs=\"text\",\n",
        "    title=\"Logic Puzzle Solver\",\n",
        "    description=\"Upload an image of a logic puzzle , and the model will solve it for you\"\n",
        "\n",
        ")\n",
        "interface.launch(debug = True)\n"
      ],
      "metadata": {
        "colab": {
          "base_uri": "https://localhost:8080/",
          "height": 680
        },
        "id": "dZnHTgDt81Pu",
        "outputId": "b782488a-e911-46da-dedc-e36a664f3dd5"
      },
      "execution_count": 9,
      "outputs": [
        {
          "output_type": "stream",
          "name": "stdout",
          "text": [
            "Running Gradio in a Colab notebook requires sharing enabled. Automatically setting `share=True` (you can turn this off by setting `share=False` in `launch()` explicitly).\n",
            "\n",
            "Colab notebook detected. This cell will run indefinitely so that you can see errors and logs. To turn off, set debug=False in launch().\n",
            "* Running on public URL: https://4d038990bfd10c85b0.gradio.live\n",
            "\n",
            "This share link expires in 72 hours. For free permanent hosting and GPU upgrades, run `gradio deploy` from the terminal in the working directory to deploy to Hugging Face Spaces (https://huggingface.co/spaces)\n"
          ]
        },
        {
          "output_type": "display_data",
          "data": {
            "text/plain": [
              "<IPython.core.display.HTML object>"
            ],
            "text/html": [
              "<div><iframe src=\"https://4d038990bfd10c85b0.gradio.live\" width=\"100%\" height=\"500\" allow=\"autoplay; camera; microphone; clipboard-read; clipboard-write;\" frameborder=\"0\" allowfullscreen></iframe></div>"
            ]
          },
          "metadata": {}
        },
        {
          "output_type": "stream",
          "name": "stdout",
          "text": [
            "Keyboard interruption in main thread... closing server.\n",
            "Killing tunnel 127.0.0.1:7860 <> https://4d038990bfd10c85b0.gradio.live\n"
          ]
        },
        {
          "output_type": "execute_result",
          "data": {
            "text/plain": []
          },
          "metadata": {},
          "execution_count": 9
        }
      ]
    }
  ]
}